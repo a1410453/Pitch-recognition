{
  "nbformat": 4,
  "nbformat_minor": 0,
  "metadata": {
    "colab": {
      "provenance": []
    },
    "kernelspec": {
      "name": "python3",
      "display_name": "Python 3"
    },
    "language_info": {
      "name": "python"
    }
  },
  "cells": [
    {
      "cell_type": "code",
      "execution_count": null,
      "metadata": {
        "id": "Lxs0d0aIM92n"
      },
      "outputs": [],
      "source": [
        "import numpy as np # linear algebra\n",
        "import pandas as pd # data processing, CSV file I/O (e.g. pd.read_csv)\n",
        "\n",
        "# Input data files are available in the \"../input/\" directory.\n",
        "# For example, running this (by clicking run or pressing Shift+Enter) will list the files in the input directory\n",
        "\n",
        "import os\n",
        "\n",
        "import librosa\n",
        "from librosa import display as dsp\n",
        "from matplotlib import pyplot as plt\n",
        "from keras.utils import to_categorical\n",
        "from keras_preprocessing.sequence import pad_sequences\n",
        "from sklearn.preprocessing import LabelEncoder\n",
        "from sklearn.model_selection import train_test_split\n",
        "from keras.models import Sequential"
      ]
    },
    {
      "cell_type": "code",
      "source": [
        "from google.colab import drive\n",
        "drive.mount('/content/drive')"
      ],
      "metadata": {
        "id": "reVPkHFzPaT8",
        "colab": {
          "base_uri": "https://localhost:8080/"
        },
        "outputId": "284a0630-6c6c-4af8-c7f8-c3cb8d18ca87"
      },
      "execution_count": null,
      "outputs": [
        {
          "output_type": "stream",
          "name": "stdout",
          "text": [
            "Mounted at /content/drive\n"
          ]
        }
      ]
    },
    {
      "cell_type": "code",
      "source": [
        "soundFilesList=os.listdir('/content/drive/MyDrive/Colab Notebooks/GuitarNotes')"
      ],
      "metadata": {
        "id": "1ih9n8nUP61q"
      },
      "execution_count": null,
      "outputs": []
    },
    {
      "cell_type": "code",
      "source": [
        "def manipulate(data, noise_factor):\n",
        "    noise = np.random.randn(len(data))\n",
        "    augmented_data = data + noise_factor * noise\n",
        "    # Cast back to same data type\n",
        "    augmented_data = augmented_data.astype(type(data[0]))\n",
        "    return augmented_data\n",
        "\n",
        "soundLabel=[]\n",
        "soundData=[]\n",
        "rawData=[]\n",
        "baseDir='/content/drive/MyDrive/Colab Notebooks/GuitarNotes/'\n",
        "mfccSingularList=list()\n",
        "for file in soundFilesList:\n",
        "    filename = str.split(file,'.')[0]\n",
        "    tempAudioData=list()\n",
        "    audioData,sampleRate=librosa.core.load(baseDir+file,res_type='kaiser_fast')\n",
        "    rawData.append(audioData)\n",
        "    spectralData=librosa.feature.spectral_bandwidth(y=audioData,sr=sampleRate)\n",
        "    for sd in spectralData:\n",
        "        tempAudioData.append(sd)\n",
        "    soundData.append(tempAudioData)\n",
        "    soundLabel.append(filename)\n",
        "\n",
        "    tempAudioData1=list()\n",
        "    augmentedData1 = manipulate(audioData, 0.0001)\n",
        "    rawData.append(augmentedData1)\n",
        "    spectralData=librosa.feature.spectral_bandwidth(y=augmentedData1,sr=sampleRate)\n",
        "    for sd in spectralData:\n",
        "        tempAudioData1.append(sd)\n",
        "    soundData.append(tempAudioData1)\n",
        "    soundLabel.append(filename)\n",
        "\n",
        "    tempAudioData2=list()\n",
        "    augmentedData2 = manipulate(audioData, 0.00001)\n",
        "    rawData.append(augmentedData2)\n",
        "    spectralData=librosa.feature.spectral_bandwidth(y=augmentedData2,sr=sampleRate)\n",
        "    for sd in spectralData:\n",
        "        tempAudioData2.append(sd)\n",
        "    soundData.append(tempAudioData2)\n",
        "    soundLabel.append(filename)\n",
        "\n",
        "    tempAudioData3=list()\n",
        "    augmentedData3 = manipulate(audioData, 0.00002)\n",
        "    rawData.append(augmentedData3)\n",
        "    spectralData=librosa.feature.spectral_bandwidth(y=augmentedData3,sr=sampleRate)\n",
        "    for sd in spectralData:\n",
        "        tempAudioData3.append(sd)\n",
        "    soundData.append(tempAudioData3)\n",
        "    soundLabel.append(filename)\n",
        "\n",
        "    tempAudioData4=list()\n",
        "    augmentedData4 = manipulate(audioData, 0.000004)\n",
        "    rawData.append(augmentedData4)\n",
        "    spectralData=librosa.feature.spectral_bandwidth(y=augmentedData4,sr=sampleRate)\n",
        "    for sd in spectralData:\n",
        "        tempAudioData4.append(sd)\n",
        "    soundData.append(tempAudioData4)\n",
        "    soundLabel.append(filename)    \n",
        "    \n",
        "    tempAudioData5=list()\n",
        "    augmentedData5 = manipulate(audioData, 0.000013)\n",
        "    rawData.append(augmentedData5)\n",
        "    spectralData=librosa.feature.spectral_bandwidth(y=augmentedData5,sr=sampleRate)\n",
        "    for sd in spectralData:\n",
        "        tempAudioData5.append(sd)\n",
        "    soundData.append(tempAudioData5)\n",
        "    soundLabel.append(filename)\n",
        "\n",
        "    tempAudioData6=list()\n",
        "    augmentedData6 = manipulate(audioData, 0.000053)\n",
        "    rawData.append(augmentedData6)\n",
        "    spectralData=librosa.feature.spectral_bandwidth(y=augmentedData6,sr=sampleRate)\n",
        "    for sd in spectralData:\n",
        "        tempAudioData6.append(sd)\n",
        "    soundData.append(tempAudioData6)\n",
        "    soundLabel.append(filename)\n",
        "\n",
        "    tempAudioData7=list()\n",
        "    augmentedData7 = manipulate(audioData, 0.0003)\n",
        "    rawData.append(augmentedData7)\n",
        "    spectralData=librosa.feature.spectral_bandwidth(y=augmentedData7,sr=sampleRate)\n",
        "    for sd in spectralData:\n",
        "        tempAudioData7.append(sd)\n",
        "    soundData.append(tempAudioData7)\n",
        "    soundLabel.append(filename)\n",
        "\n",
        "    tempAudioData8=list()\n",
        "    augmentedData8 = manipulate(audioData, 0.00009)\n",
        "    rawData.append(augmentedData8)\n",
        "    spectralData=librosa.feature.spectral_bandwidth(y=augmentedData8,sr=sampleRate)\n",
        "    for sd in spectralData:\n",
        "        tempAudioData8.append(sd)\n",
        "    soundData.append(tempAudioData8)\n",
        "    soundLabel.append(filename)\n",
        "\n",
        "\n",
        "print('Done')"
      ],
      "metadata": {
        "id": "4wqIHRN0P7Hk",
        "colab": {
          "base_uri": "https://localhost:8080/"
        },
        "outputId": "889680d0-05cc-4659-f6a2-741d836d573d"
      },
      "execution_count": null,
      "outputs": [
        {
          "output_type": "stream",
          "name": "stdout",
          "text": [
            "Done\n"
          ]
        }
      ]
    },
    {
      "cell_type": "code",
      "source": [
        "idx=np.random.randint(len(soundData))\n",
        "\n",
        "plt.plot(rawData[idx])\n",
        "plt.xlabel(soundLabel[idx])\n",
        "plt.show()\n",
        "plt.plot(soundData[idx][0])\n",
        "plt.grid()\n",
        "plt.show()\n"
      ],
      "metadata": {
        "id": "om_5vSEWP7bT",
        "colab": {
          "base_uri": "https://localhost:8080/",
          "height": 527
        },
        "outputId": "f71336ac-254b-480f-ff71-1e9007dbfe78"
      },
      "execution_count": null,
      "outputs": [
        {
          "output_type": "display_data",
          "data": {
            "text/plain": [
              "<Figure size 432x288 with 1 Axes>"
            ],
            "image/png": "[encoded data removed]"
          },
          "metadata": {
            "needs_background": "light"
          }
        },
        {
          "output_type": "display_data",
          "data": {
            "text/plain": [
              "<Figure size 432x288 with 1 Axes>"
            ],
            "image/png": "[encoded data removed]"
          },
          "metadata": {
            "needs_background": "light"
          }
        }
      ]
    },
    {
      "cell_type": "code",
      "source": [
        "X=[]\n",
        "for s in soundData:\n",
        "    for val in s:\n",
        "        X.append(val)"
      ],
      "metadata": {
        "id": "wAV8x1d6Q5hE"
      },
      "execution_count": null,
      "outputs": []
    },
    {
      "cell_type": "code",
      "source": [
        "print(max([len(x) for x in X]))\n",
        "maxlen=max([len(x) for x in X])\n",
        "X=pad_sequences(X,maxlen=maxlen)\n",
        "np.shape(X)\n",
        "print(len(soundLabel))"
      ],
      "metadata": {
        "id": "PryF4G1wQ5ux",
        "colab": {
          "base_uri": "https://localhost:8080/"
        },
        "outputId": "66e0b967-0ff8-4106-d3a8-e1bafd551b0f"
      },
      "execution_count": null,
      "outputs": [
        {
          "output_type": "stream",
          "name": "stdout",
          "text": [
            "154\n",
            "558\n"
          ]
        }
      ]
    },
    {
      "cell_type": "code",
      "source": [
        "idx=np.random.randint(len(X))\n",
        "plt.plot(soundData[idx][0])\n",
        "plt.ylabel(soundLabel[idx])\n",
        "plt.grid()\n",
        "plt.show()"
      ],
      "metadata": {
        "id": "8cYMGe6cY2za",
        "colab": {
          "base_uri": "https://localhost:8080/",
          "height": 268
        },
        "outputId": "ff186ea0-d70b-43be-d566-ce2f3ace7dda"
      },
      "execution_count": null,
      "outputs": [
        {
          "output_type": "display_data",
          "data": {
            "text/plain": [
              "<Figure size 432x288 with 1 Axes>"
            ],
            "image/png": "[encoded data removed]"
          },
          "metadata": {
            "needs_background": "light"
          }
        }
      ]
    },
    {
      "cell_type": "code",
      "source": [
        "np.shape(X)"
      ],
      "metadata": {
        "id": "Aqpl6qZupO47",
        "colab": {
          "base_uri": "https://localhost:8080/"
        },
        "outputId": "a1784b83-6248-4be9-e080-ed2eb5293666"
      },
      "execution_count": null,
      "outputs": [
        {
          "output_type": "execute_result",
          "data": {
            "text/plain": [
              "(558, 154)"
            ]
          },
          "metadata": {},
          "execution_count": 9
        }
      ]
    },
    {
      "cell_type": "code",
      "source": [
        "num_classes=len(set(soundLabel))\n",
        "num_classes"
      ],
      "metadata": {
        "id": "vzCL1PSMpPJD",
        "colab": {
          "base_uri": "https://localhost:8080/"
        },
        "outputId": "fe237d2a-6b68-454c-d50f-b2a9aeca6450"
      },
      "execution_count": null,
      "outputs": [
        {
          "output_type": "execute_result",
          "data": {
            "text/plain": [
              "62"
            ]
          },
          "metadata": {},
          "execution_count": 10
        }
      ]
    },
    {
      "cell_type": "code",
      "source": [
        "targetLabelEncoder=LabelEncoder()\n",
        "y=targetLabelEncoder.fit_transform(soundLabel)\n",
        "#X=X.reshape(X.shape[0],X.shape[1],1)\n",
        "#y=to_categorical(y=target,num_classes=num_classes)\n",
        "#input_shape=(X.shape[1],1)"
      ],
      "metadata": {
        "id": "-3NNpdOapZOo"
      },
      "execution_count": null,
      "outputs": []
    },
    {
      "cell_type": "code",
      "source": [
        "np.shape(X),np.shape(y)"
      ],
      "metadata": {
        "id": "TMKWSn3bpiiG",
        "colab": {
          "base_uri": "https://localhost:8080/"
        },
        "outputId": "ebe8af16-5f0c-489f-f2d7-7961db7b1430"
      },
      "execution_count": null,
      "outputs": [
        {
          "output_type": "execute_result",
          "data": {
            "text/plain": [
              "((558, 154), (558,))"
            ]
          },
          "metadata": {},
          "execution_count": 12
        }
      ]
    },
    {
      "cell_type": "code",
      "source": [
        "from sklearn.svm import SVC\n",
        "from sklearn.neural_network import MLPClassifier"
      ],
      "metadata": {
        "id": "DYElnVAkpl_d"
      },
      "execution_count": null,
      "outputs": []
    },
    {
      "cell_type": "code",
      "source": [
        "X_train,X_test,y_train,y_test=train_test_split(X,y,train_size=0.80,test_size=0.20,random_state=43)\n",
        "mlpClf=MLPClassifier(hidden_layer_sizes = (120, 60, 90), random_state=1)\n",
        "print(mlpClf.get_params())\n",
        "mlpClf.fit(X_train, y_train)\n",
        "print('Accuracy:', mlpClf.score(X_test,y_test))"
      ],
      "metadata": {
        "id": "hXnBPlI0pqnK",
        "colab": {
          "base_uri": "https://localhost:8080/"
        },
        "outputId": "a2715c7a-a61a-4f49-897f-ae0647a29b7f"
      },
      "execution_count": null,
      "outputs": [
        {
          "output_type": "stream",
          "name": "stdout",
          "text": [
            "{'activation': 'relu', 'alpha': 0.0001, 'batch_size': 'auto', 'beta_1': 0.9, 'beta_2': 0.999, 'early_stopping': False, 'epsilon': 1e-08, 'hidden_layer_sizes': (120, 60, 90), 'learning_rate': 'constant', 'learning_rate_init': 0.001, 'max_fun': 15000, 'max_iter': 200, 'momentum': 0.9, 'n_iter_no_change': 10, 'nesterovs_momentum': True, 'power_t': 0.5, 'random_state': 1, 'shuffle': True, 'solver': 'adam', 'tol': 0.0001, 'validation_fraction': 0.1, 'verbose': False, 'warm_start': False}\n",
            "Accuracy: 0.6875\n"
          ]
        }
      ]
    },
    {
      "cell_type": "code",
      "source": [
        "idx=np.random.randint(len(X_test))\n",
        "print('Pred:',targetLabelEncoder.inverse_transform(mlpClf.predict([X_test[idx]]))[0])\n",
        "print('Actual:',targetLabelEncoder.inverse_transform(y_test)[idx])"
      ],
      "metadata": {
        "id": "ZiEoDFwKpuqi",
        "colab": {
          "base_uri": "https://localhost:8080/"
        },
        "outputId": "5916c77b-354c-4aea-cf4f-4eece58b786b"
      },
      "execution_count": null,
      "outputs": [
        {
          "output_type": "stream",
          "name": "stdout",
          "text": [
            "Pred: G3\n",
            "Actual: G3\n"
          ]
        }
      ]
    }
  ]
}